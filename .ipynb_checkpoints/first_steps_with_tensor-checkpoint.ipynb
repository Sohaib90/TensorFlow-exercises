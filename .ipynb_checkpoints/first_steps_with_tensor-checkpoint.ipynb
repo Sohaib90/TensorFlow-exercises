{
 "cells": [
  {
   "cell_type": "code",
   "execution_count": 1,
   "metadata": {},
   "outputs": [],
   "source": [
    "import tensorflow as tf\n",
    "import math\n",
    "from IPython import display\n",
    "from matplotlib import cm\n",
    "from matplotlib import gridspec\n",
    "from matplotlib import pyplot as plt\n",
    "import numpy as np\n",
    "import pandas as pd\n",
    "from sklearn import metrics\n",
    "import tensorflow as tf\n",
    "from tensorflow.python.data import Dataset\n",
    "import os"
   ]
  },
  {
   "cell_type": "code",
   "execution_count": 2,
   "metadata": {},
   "outputs": [],
   "source": [
    "os.environ['TF_CPP_MIN_LOG_LEVEL'] = '2' #suppress logging messages\n",
    "tf.logging.set_verbosity(tf.logging.ERROR) #suppress logging messages\n",
    "pd.options.display.max_rows = 10\n",
    "pd.options.display.float_format = '{:.1f}'.format \n",
    "#whatever the value and .1f tells to format it upto one decimal place"
   ]
  },
  {
   "cell_type": "code",
   "execution_count": 3,
   "metadata": {},
   "outputs": [],
   "source": [
    "california_housing_dataframe = pd.read_csv(\"https://storage.googleapis.com/mledu-datasets/california_housing_train.csv\", sep=\",\")"
   ]
  },
  {
   "cell_type": "code",
   "execution_count": 4,
   "metadata": {},
   "outputs": [],
   "source": [
    "#we will randomize the dataset by np.random.permutation(california_housing_dataframe.index)\n",
    "#so that the Stochastic Gradient Descent works fine without any pathological ordering effects\n",
    "california_housing_dataframe = california_housing_dataframe.reindex(np.random.permutation(california_housing_dataframe.index))\n",
    "california_housing_dataframe[\"median_house_value\"] /= 1000.0\n",
    "\n",
    "#get to know your data, statistical data\n",
    "#print(california_housing_dataframe.describe())"
   ]
  },
  {
   "cell_type": "code",
   "execution_count": 5,
   "metadata": {},
   "outputs": [],
   "source": [
    "# describe feature and feature column\n",
    "# feature column is just a column that indicates a feature's data type\n",
    "\n",
    "# input feature\n",
    "my_feature = california_housing_dataframe[[\"total_rooms\"]]\n",
    "\n",
    "#feature column\n",
    "feature_column = [tf.feature_column.numeric_column(\"total_rooms\")]\n",
    "\n",
    "#Defining label\n",
    "target = california_housing_dataframe[\"median_house_value\"]"
   ]
  },
  {
   "cell_type": "code",
   "execution_count": 6,
   "metadata": {},
   "outputs": [],
   "source": [
    "#Configure a linear Regressor (linear regression model optimizer)\n",
    "# clip_gradients_by_norm (ensures mag of gradient does not become too large)\n",
    "\n",
    "#optimizer\n",
    "optimizer = tf.train.GradientDescentOptimizer(learning_rate=0.0000001)\n",
    "optimizer = tf.contrib.estimator.clip_gradients_by_norm(optimizer, 5.0)\n",
    "\n",
    "#Configure a linear regression model\n",
    "linear_regression = tf.estimator.LinearRegressor(\n",
    "\tfeature_columns = feature_column,\n",
    "\toptimizer= optimizer\n",
    "\t)"
   ]
  },
  {
   "cell_type": "code",
   "execution_count": 7,
   "metadata": {},
   "outputs": [],
   "source": [
    "# Define and Input Function:\n",
    "# To import our data into our Linear Regressor, we need to define \n",
    "# an input funciton, which tells Tensorflow how to preprocess the data\n",
    "# or to shuffle, batch and repeat it during model training\n",
    "def my_input_func(features,targets,batch_size=1, shuffle=True, num_epochs=None):\n",
    "\n",
    "\t\"\"\"Trains a linear regression model of one feature.\n",
    "  \n",
    "    Args:\n",
    "      features: pandas DataFrame of features\n",
    "      targets: pandas DataFrame of targets\n",
    "      batch_size: Size of batches to be passed to the model\n",
    "      shuffle: True or False. Whether to shuffle the data.\n",
    "      num_epochs: Number of epochs for which data should be repeated. None = repeat indefinitely\n",
    "    Returns:\n",
    "      Tuple of (features, labels) for next data batch\n",
    "    \"\"\"\n",
    "    # Convert pandas data into a dict of np arrays\n",
    "\tfeatures = {key:np.array(value) for key, value in dict(features).items()}\n",
    "\n",
    "\t# Construct a dataset API (tensorflow), and configure batching/repeating\n",
    "\tds = Dataset.from_tensor_slices((features,targets)) # warning: 2GB limit\n",
    "\tds = ds.batch(batch_size).repeat(num_epochs)\n",
    "\n",
    "    #shuffle the data, if specified\n",
    "\tif shuffle:\n",
    "\t\tds = ds.shuffle(buffer_size= 10000)\n",
    "\n",
    "    #Return the next batch of data\n",
    "\tfeatures,labels = ds.make_one_shot_iterator().get_next()\n",
    "\treturn features,labels"
   ]
  },
  {
   "cell_type": "code",
   "execution_count": 8,
   "metadata": {},
   "outputs": [],
   "source": [
    "#input given to the tensorflow linear regression optimizer that we built above \n",
    "input_f = lambda:my_input_func(my_feature,target)\n",
    "train = linear_regression.train(input_fn=input_f,steps=100)\n"
   ]
  },
  {
   "cell_type": "code",
   "execution_count": 9,
   "metadata": {},
   "outputs": [
    {
     "name": "stdout",
     "output_type": "stream",
     "text": [
      "Mean Squared Error (on training data): 56367.025\n",
      "Root Mean Squared Error (on training data): 237.417\n"
     ]
    }
   ],
   "source": [
    "# Create an input function for predictions.\n",
    "# Note: Since we're making just one prediction for each example, we don't \n",
    "# need to repeat or shuffle the data here.\n",
    "predictions_input = lambda:my_input_func(my_feature,target,num_epochs=1,shuffle=False)\n",
    "\n",
    "# Call predict() on the linear_regressor to make predictions.\n",
    "predictions = linear_regression.predict(input_fn = predictions_input)\n",
    "\n",
    "# Format predictions as a NumPy array, so we can calculate error metrics.\n",
    "predictions = np.array([item['predictions'][0] for item in predictions])\n",
    "\n",
    "# Print Mean Squared Error and Root Mean Squared Error.\n",
    "mean_squared_error = metrics.mean_squared_error(predictions, target)\n",
    "root_mean_squared_error = math.sqrt(mean_squared_error)\n",
    "print(\"Mean Squared Error (on training data): %0.3f\" % mean_squared_error)\n",
    "print(\"Root Mean Squared Error (on training data): %0.3f\" % root_mean_squared_error)"
   ]
  },
  {
   "cell_type": "code",
   "execution_count": 10,
   "metadata": {},
   "outputs": [
    {
     "name": "stdout",
     "output_type": "stream",
     "text": [
      "Min. Median House Value: 14.999\n",
      "Max. Median House Value: 500.001\n",
      "Difference between Min. and Max.: 485.002\n",
      "Root Mean Squared Error: 237.417\n"
     ]
    }
   ],
   "source": [
    "#How would we judge the value we get from the RMSE and MSE?\n",
    "#Compare it to the difference of min and max values of our target\n",
    "\n",
    "min_house_value = california_housing_dataframe[\"median_house_value\"].min()\n",
    "max_house_value = california_housing_dataframe[\"median_house_value\"].max()\n",
    "min_max_diff = max_house_value-min_house_value\n",
    "\n",
    "print (\"Min. Median House Value: %0.3f\" % min_house_value)\n",
    "print (\"Max. Median House Value: %0.3f\" % max_house_value)\n",
    "print (\"Difference between Min. and Max.: %0.3f\" % min_max_diff)\n",
    "print (\"Root Mean Squared Error: %0.3f\" % root_mean_squared_error)"
   ]
  },
  {
   "cell_type": "code",
   "execution_count": 12,
   "metadata": {},
   "outputs": [
    {
     "data": {
      "text/html": [
       "<div>\n",
       "<style scoped>\n",
       "    .dataframe tbody tr th:only-of-type {\n",
       "        vertical-align: middle;\n",
       "    }\n",
       "\n",
       "    .dataframe tbody tr th {\n",
       "        vertical-align: top;\n",
       "    }\n",
       "\n",
       "    .dataframe thead th {\n",
       "        text-align: right;\n",
       "    }\n",
       "</style>\n",
       "<table border=\"1\" class=\"dataframe\">\n",
       "  <thead>\n",
       "    <tr style=\"text-align: right;\">\n",
       "      <th></th>\n",
       "      <th>predictions</th>\n",
       "      <th>target</th>\n",
       "    </tr>\n",
       "  </thead>\n",
       "  <tbody>\n",
       "    <tr>\n",
       "      <th>count</th>\n",
       "      <td>17000.0</td>\n",
       "      <td>17000.0</td>\n",
       "    </tr>\n",
       "    <tr>\n",
       "      <th>mean</th>\n",
       "      <td>0.1</td>\n",
       "      <td>207.3</td>\n",
       "    </tr>\n",
       "    <tr>\n",
       "      <th>std</th>\n",
       "      <td>0.1</td>\n",
       "      <td>116.0</td>\n",
       "    </tr>\n",
       "    <tr>\n",
       "      <th>min</th>\n",
       "      <td>0.0</td>\n",
       "      <td>15.0</td>\n",
       "    </tr>\n",
       "    <tr>\n",
       "      <th>25%</th>\n",
       "      <td>0.1</td>\n",
       "      <td>119.4</td>\n",
       "    </tr>\n",
       "    <tr>\n",
       "      <th>50%</th>\n",
       "      <td>0.1</td>\n",
       "      <td>180.4</td>\n",
       "    </tr>\n",
       "    <tr>\n",
       "      <th>75%</th>\n",
       "      <td>0.2</td>\n",
       "      <td>265.0</td>\n",
       "    </tr>\n",
       "    <tr>\n",
       "      <th>max</th>\n",
       "      <td>1.9</td>\n",
       "      <td>500.0</td>\n",
       "    </tr>\n",
       "  </tbody>\n",
       "</table>\n",
       "</div>"
      ],
      "text/plain": [
       "       predictions  target\n",
       "count      17000.0 17000.0\n",
       "mean           0.1   207.3\n",
       "std            0.1   116.0\n",
       "min            0.0    15.0\n",
       "25%            0.1   119.4\n",
       "50%            0.1   180.4\n",
       "75%            0.2   265.0\n",
       "max            1.9   500.0"
      ]
     },
     "execution_count": 12,
     "metadata": {},
     "output_type": "execute_result"
    }
   ],
   "source": [
    "calibration_data = pd.DataFrame()\n",
    "calibration_data[\"predictions\"] = pd.Series(predictions)\n",
    "calibration_data[\"target\"] = pd.Series(target)\n",
    "calibration_data.describe()"
   ]
  },
  {
   "cell_type": "code",
   "execution_count": 15,
   "metadata": {},
   "outputs": [],
   "source": [
    "# to make a readable scatter plot\n",
    "sample = california_housing_dataframe.sample(n=300)"
   ]
  },
  {
   "cell_type": "code",
   "execution_count": 21,
   "metadata": {},
   "outputs": [
    {
     "data": {
      "image/png": "[encoded data removed]",
      "text/plain": [
       "<Figure size 432x288 with 1 Axes>"
      ]
     },
     "metadata": {},
     "output_type": "display_data"
    }
   ],
   "source": [
    "# Get the min and max total_rooms values.\n",
    "x_0 = sample[\"total_rooms\"].min()\n",
    "x_1 = sample[\"total_rooms\"].max()\n",
    "\n",
    "# Retrieve the final weight and bias generated during training.\n",
    "weight = linear_regression.get_variable_value('linear/linear_model/total_rooms/weights')[0]\n",
    "bias = linear_regression.get_variable_value('linear/linear_model/bias_weights')\n",
    "\n",
    "# Get the predicted median_house_values for the min and max total_rooms values.\n",
    "y_0 = weight * x_0 + bias \n",
    "y_1 = weight * x_1 + bias\n",
    "\n",
    "# Plot our regression line from (x_0, y_0) to (x_1, y_1).\n",
    "plt.plot([x_0, x_1], [y_0, y_1], c='r')\n",
    "\n",
    "# Label the graph axes.\n",
    "plt.ylabel(\"median_house_value\")\n",
    "plt.xlabel(\"total_rooms\")\n",
    "\n",
    "# Plot a scatter plot from our data sample.\n",
    "plt.scatter(sample[\"total_rooms\"], sample[\"median_house_value\"])\n",
    "\n",
    "# Display graph.\n",
    "plt.show()"
   ]
  },
  {
   "cell_type": "code",
   "execution_count": 74,
   "metadata": {},
   "outputs": [],
   "source": [
    "# make a single train_model function for the above process with numerous periods \n",
    "# Hyperparamters tweaking\n",
    "\n",
    "def train_model(learning_rate,steps,batch_size,input_feature=\"total_rooms\"):\n",
    "    \n",
    "    \"\"\"Trains a linear regression model of one feature.\n",
    "  \n",
    "      Args:\n",
    "        learning_rate: A `float`, the learning rate.\n",
    "        steps: A non-zero `int`, the total number of training steps. A training step\n",
    "          consists of a forward and backward pass using a single batch.\n",
    "        batch_size: A non-zero `int`, the batch size.\n",
    "        input_feature: A `string` specifying a column from `california_housing_dataframe`\n",
    "          to use as input feature.\n",
    "          \n",
    "          In this function, we'll proceed in 10 evenly divided periods so that we can observe the model improvement at each period.\n",
    "          For each period, we'll compute and graph training loss. This may help you judge when a model is converged, or if it needs more iterations.\n",
    "    \"\"\"\n",
    "    periods = 10\n",
    "    step_period = steps/periods\n",
    "    my_feature = input_feature\n",
    "    my_feature_data = california_housing_dataframe[[my_feature]]\n",
    "    target_data = california_housing_dataframe[\"median_house_value\"]\n",
    "    \n",
    "    #Create column feature\n",
    "    feature_column = [tf.feature_column.numeric_column(my_feature)]\n",
    "    \n",
    "    #Create input function\n",
    "    training_input= lambda:my_input_func(my_feature_data, target_data, batch_size=batch_size)\n",
    "    prediction_input = lambda: my_input_func(my_feature_data, target_data, num_epochs=1, shuffle=False)\n",
    "    \n",
    "    # create a linear regressor optimizer\n",
    "    my_opt = tf.train.GradientDescentOptimizer(learning_rate=learning_rate)\n",
    "    my_opt = tf.contrib.estimator.clip_gradients_by_norm(my_opt,5.0)\n",
    "    linear_regressor = tf.estimator.LinearRegressor(feature_columns = feature_column, optimizer = my_opt)\n",
    "   \n",
    "    # Set up to plot the state of our model's line each period.\n",
    "    plt.figure(figsize=(15, 6))\n",
    "    plt.subplot(1, 2, 1)\n",
    "    plt.title(\"Learned Line by Period\")\n",
    "    plt.ylabel(\"median_house_value\")\n",
    "    plt.xlabel(my_feature)\n",
    "    sample = california_housing_dataframe.sample(n=300)\n",
    "    plt.scatter(sample[my_feature], sample[\"median_house_value\"])\n",
    "    colors = [cm.coolwarm(x) for x in np.linspace(-1, 1, periods)]\n",
    "    \n",
    "    #Train the model, but have to do in a loop of periods so we can \n",
    "    #see the change in the RMSE\n",
    "    print(\"Training  model...\")\n",
    "    print(\"RMSE (on training data)\")\n",
    "    root_mean_squared_errors = [] #This will have all the RMSE of the periods\n",
    "    for period in range(0,periods):\n",
    "        linear_regressor.train(input_fn=training_input,steps=step_period)\n",
    "        \n",
    "        #Compute predictions\n",
    "        predictions = linear_regressor.predict(input_fn=prediction_input)\n",
    "        predictions = np.array([item['predictions'][0] for item in predictions])\n",
    "        \n",
    "        #Compute loss\n",
    "        root_mean_square_error = math.sqrt(metrics.mean_squared_error(predictions,target_data))\n",
    "        \n",
    "        # Occasionally print the current loss.\n",
    "        print (\"  period %02d : %0.2f\" % (period, root_mean_square_error))\n",
    "        \n",
    "        root_mean_squared_errors.append(root_mean_square_error)\n",
    "        \n",
    "        # Finally, track the weights and biases over time.\n",
    "        # Apply some math to ensure that the data and line are plotted neatly.\n",
    "        y_extents = np.array([0, sample[\"median_house_value\"].max()])\n",
    "        \n",
    "        weight = linear_regressor.get_variable_value('linear/linear_model/%s/weights' % input_feature)[0]\n",
    "        bias = linear_regressor.get_variable_value('linear/linear_model/bias_weights')\n",
    "        \n",
    "        x_extents = (y_extents - bias) / weight\n",
    "        \n",
    "        x_extents = np.maximum(np.minimum(x_extents,sample[my_feature].max()),sample[my_feature].min())\n",
    "        y_extents = weight * x_extents + bias #linear regression line\n",
    "        plt.plot(x_extents, y_extents, color=colors[period])\n",
    "    \n",
    "    print(\"Model training finished.\")\n",
    "    \n",
    "    # Output a graph of loss metrics over periods.\n",
    "    plt.subplot(1, 2, 2)\n",
    "    plt.ylabel('RMSE')\n",
    "    plt.xlabel('Periods')\n",
    "    plt.title(\"Root Mean Squared Error vs. Periods\")\n",
    "    plt.tight_layout()\n",
    "    plt.plot(root_mean_squared_errors)\n",
    "    \n",
    "    # Output a table with calibration data.\n",
    "    calibration_data = pd.DataFrame()\n",
    "    calibration_data[\"predictions\"] = pd.Series(predictions)\n",
    "    calibration_data[\"targets\"] = pd.Series(target_data)\n",
    "    display.display(calibration_data.describe())\n",
    "    \n",
    "    print(\"Final RMSE (on training data): %0.2f\" % root_mean_square_error)"
   ]
  },
  {
   "cell_type": "code",
   "execution_count": null,
   "metadata": {},
   "outputs": [
    {
     "name": "stdout",
     "output_type": "stream",
     "text": [
      "Training  model...\n",
      "RMSE (on training data)\n",
      "  period 00 : 229.13\n",
      "This is y_extents:  [  0.    500.001]\n",
      "  period 01 : 221.05\n",
      "This is y_extents:  [  0.    500.001]\n"
     ]
    }
   ],
   "source": [
    "train_model(\n",
    "    learning_rate=0.00007,\n",
    "    steps=100,\n",
    "    batch_size=100\n",
    ")"
   ]
  },
  {
   "cell_type": "code",
   "execution_count": 70,
   "metadata": {},
   "outputs": [],
   "source": [
    "# That said, here are a few rules of thumb that may help guide you:\n",
    "# 1 Training error should steadily decrease, steeply at first, and should eventually plateau as training converges.\n",
    "# 2 If the training has not converged, try running it for longer.\n",
    "# 3 If the training error decreases too slowly, increasing the learning rate may help it decrease faster.\n",
    "#         But sometimes the exact opposite may happen if the learning rate is too high.\n",
    "#     If the training error varies wildly, try decreasing the learning rate.\n",
    "#         Lower learning rate plus larger number of steps or larger batch size is often a good combination.\n",
    "# Very small batch sizes can also cause instability. First try larger values like 100 or 1000, and decrease until you see degradation.\n",
    "\n",
    "\n",
    "# Again, never go strictly by these rules of thumb, because the effects are data dependent. Always experiment and verify."
   ]
  },
  {
   "cell_type": "code",
   "execution_count": null,
   "metadata": {},
   "outputs": [],
   "source": []
  }
 ],
 "metadata": {
  "kernelspec": {
   "display_name": "Python 3",
   "language": "python",
   "name": "python3"
  },
  "language_info": {
   "codemirror_mode": {
    "name": "ipython",
    "version": 3
   },
   "file_extension": ".py",
   "mimetype": "text/x-python",
   "name": "python",
   "nbconvert_exporter": "python",
   "pygments_lexer": "ipython3",
   "version": "3.5.0b3"
  }
 },
 "nbformat": 4,
 "nbformat_minor": 2
}
